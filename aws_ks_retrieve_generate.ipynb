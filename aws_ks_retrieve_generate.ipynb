{
 "cells": [
  {
   "cell_type": "code",
   "execution_count": 12,
   "metadata": {},
   "outputs": [],
   "source": [
    "import os\n",
    "import boto3\n",
    "\n",
    "aws_profile = os.environ.get(\"AWS_PROFILE\", \"299294753357_ml-engineer-permissions\") \n",
    "region = os.environ.get(\"AWS_DEFAULT_REGION\", \"us-east-1\") \n",
    "knowledge_base_id = os.environ.get(\"KNOWLEDGE_BASE_ID\", \"AEC7EUSCHX\")\n",
    "model_id = os.environ.get(\"FOUNDATION_MODEL_ID\", \"meta.llama3-8b-instruct-v1:0\") \n",
    "\n",
    "session = boto3.Session(profile_name=aws_profile)\n",
    "bedrock_agent_runtime_client = session.client(\"bedrock-agent-runtime\", region_name=region)\n",
    "\n",
    "def retrieveAndGenerate(query, knowledge_base_id, region):\n",
    "    return bedrock_agent_runtime_client.retrieve_and_generate(\n",
    "        input={\n",
    "            'text': query\n",
    "        },\n",
    "        retrieveAndGenerateConfiguration={\n",
    "            'type': 'KNOWLEDGE_BASE',\n",
    "            'knowledgeBaseConfiguration': {\n",
    "                'knowledgeBaseId': knowledge_base_id,\n",
    "                'modelArn': f'arn:aws:bedrock:{region}::foundation-model/{model_id}'\n",
    "            }\n",
    "        }\n",
    "    )"
   ]
  },
  {
   "cell_type": "code",
   "execution_count": 13,
   "metadata": {},
   "outputs": [
    {
     "name": "stdout",
     "output_type": "stream",
     "text": [
      "Question: what is the GPS coordinates provided by the contractor for spill_id 44442 and service_id 19?\n",
      "Answer: 41.026944, -82.088056\n"
     ]
    }
   ],
   "source": [
    "query = \"what is the GPS coordinates provided by the contractor for spill_id 44442 and service_id 19?\"\n",
    "answer = retrieveAndGenerate(query, knowledge_base_id, region)['output']['text']\n",
    "print(f\"Question: {query}\")\n",
    "print(f\"Answer: {answer}\")"
   ]
  },
  {
   "cell_type": "code",
   "execution_count": 14,
   "metadata": {},
   "outputs": [
    {
     "name": "stdout",
     "output_type": "stream",
     "text": [
      "Question: What is location of the spill reported in service id 17?\n",
      "Answer: The spill was reported at Route 224 WB, 2 miles east of Route 301, near River Corners Rd. Lodi, OH. 44254.\n"
     ]
    }
   ],
   "source": [
    "query = \"What is location of the spill reported in service id 17?\"\n",
    "answer = retrieveAndGenerate(query, knowledge_base_id, region)['output']['text']\n",
    "print(f\"Question: {query}\")\n",
    "print(f\"Answer: {answer}\")"
   ]
  }
 ],
 "metadata": {
  "kernelspec": {
   "display_name": "jlab2",
   "language": "python",
   "name": "python3"
  },
  "language_info": {
   "codemirror_mode": {
    "name": "ipython",
    "version": 3
   },
   "file_extension": ".py",
   "mimetype": "text/x-python",
   "name": "python",
   "nbconvert_exporter": "python",
   "pygments_lexer": "ipython3",
   "version": "3.10.14"
  }
 },
 "nbformat": 4,
 "nbformat_minor": 2
}
